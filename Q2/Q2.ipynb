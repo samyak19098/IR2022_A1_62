{
 "cells": [
  {
   "cell_type": "code",
   "execution_count": null,
   "metadata": {},
   "outputs": [],
   "source": [
    "import os\n",
    "import nltk\n",
    "from nltk.tokenize import word_tokenize\n",
    "from nltk.corpus import stopwords\n",
    "# from substitutions import appos\n",
    "from nltk.stem import PorterStemmer, WordNetLemmatizer\n",
    "import copy\n",
    "nltk.download('stopwords')\n",
    "nltk.download('punkt')\n",
    "nltk.download('wordnet')\n",
    "nltk.download('omw-1.4')\n",
    "import string\n",
    "import numpy as np\n",
    "import contractions\n",
    "from nltk import RegexpTokenizer\n"
   ]
  },
  {
   "cell_type": "code",
   "execution_count": null,
   "metadata": {},
   "outputs": [],
   "source": [
    "data_dir = '../Humor,Hist,Media,Food'\n",
    "file_names = os.listdir(data_dir)\n",
    "file_paths = [(data_dir + '/' + fname) for fname in file_names]\n",
    "docID_to_doc = {}\n",
    "for i in range(len(file_names)):\n",
    "    docID_to_doc[i] = file_names[i]"
   ]
  },
  {
   "cell_type": "code",
   "execution_count": null,
   "metadata": {},
   "outputs": [],
   "source": [
    "def remove_punct(tok):\n",
    "    punctuations = string.punctuation\n",
    "    tok = ''.join(x for x in tok if x not in punctuations)\n",
    "    return tok\n",
    "def remove_space(tok):\n",
    "    tok = ''.join(x for x in tok if x != ' ')\n",
    "    return tok\n",
    "\n",
    "def preprocess_file(file_text):\n",
    "\n",
    "    ftext = file_text.lower()\n",
    "    # print(f\"Original Text : \\n{ftext}\\n\\n\")\n",
    "    # print(\"\\n---------------------------------------\\n\")\n",
    "    file_toks = word_tokenize(ftext)\n",
    "    # print(f\"After word_Tokenization : \\n{file_toks}\\n\\n\")\n",
    "    # print(\"---------------------------------------\")\n",
    "    stop_words = list(set(stopwords.words('english')))\n",
    "    file_toks = [tok for tok in file_toks if tok not in stop_words]\n",
    "    # print(f\"After removing stopwords : \\n{file_toks}\\n\\n\")\n",
    "    # print(\"\\n---------------------------------------\\n\")\n",
    "    toks_no_punct = []\n",
    "    for tok in file_toks:\n",
    "        ctok = remove_punct(tok)\n",
    "        # print(f\"-> before removal : {tok} || After removal : {ctok}\")\n",
    "        if(ctok != \"\"):\n",
    "            toks_no_punct.append(ctok)\n",
    "    # print(\"\\n---------------------------------------\\n\")\n",
    "    cleaned_toks = []\n",
    "    for tok in toks_no_punct:\n",
    "        ctok = remove_space(tok)\n",
    "        # print(f\"-> before removal : {tok} || After removal : {ctok}\")\n",
    "        if(ctok != \"\"):\n",
    "            cleaned_toks.append(ctok)\n",
    "    return cleaned_toks"
   ]
  },
  {
   "cell_type": "code",
   "execution_count": null,
   "metadata": {},
   "outputs": [],
   "source": [
    "def read_file(fpaths):\n",
    "    \n",
    "    file_tokens = []\n",
    "    for fpath in fpaths:\n",
    "        # print(fpath)\n",
    "        f = open(fpath, 'r', encoding='utf-8', errors='ignore')\n",
    "        ftxt_unprocessed = f.read()\n",
    "        ftoks = preprocess_file(ftxt_unprocessed)\n",
    "        file_tokens.append(ftoks)\n",
    "    return file_tokens\n"
   ]
  },
  {
   "cell_type": "code",
   "execution_count": null,
   "metadata": {},
   "outputs": [],
   "source": [
    "file_toks = read_file(file_paths)"
   ]
  },
  {
   "cell_type": "code",
   "execution_count": null,
   "metadata": {},
   "outputs": [],
   "source": [
    "def create_positional_index(file_toks):\n",
    "    pidx_dict = {}\n",
    "    for i in range(len(file_toks)):\n",
    "        for j in range(len(file_toks[i])):\n",
    "            tok = file_toks[i][j]\n",
    "            if(tok not in pidx_dict.keys()):\n",
    "                pidx_dict[tok] = {}\n",
    "                pidx_dict[tok][i] = [j]\n",
    "            else:\n",
    "                if(i in pidx_dict[tok].keys()):\n",
    "                    pidx_dict[tok][i].append(j)\n",
    "                else:\n",
    "                    pidx_dict[tok][i] = [j]\n",
    "    pidx_dict = dict(sorted(pidx_dict.items()))\n",
    "    positional_index = {}\n",
    "    terms = pidx_dict.keys()\n",
    "    for t in terms:\n",
    "        positional_index[t] = []\n",
    "        for docID in pidx_dict[t].keys():\n",
    "            term_doc_positions = copy.deepcopy(pidx_dict[t][docID])\n",
    "            term_doc_positions.sort()\n",
    "            positional_index[t].append([docID, term_doc_positions])        \n",
    "        positional_index[t].sort(key=lambda x: x[0])\n",
    "    return positional_index\n"
   ]
  },
  {
   "cell_type": "code",
   "execution_count": 38,
   "metadata": {},
   "outputs": [],
   "source": [
    "positional_index = create_positional_index(file_toks)"
   ]
  },
  {
   "cell_type": "code",
   "execution_count": null,
   "metadata": {},
   "outputs": [],
   "source": [
    "positional_index['changes']"
   ]
  },
  {
   "cell_type": "code",
   "execution_count": 60,
   "metadata": {},
   "outputs": [],
   "source": [
    "def check_all_in_range(ptrs, ranges):\n",
    "    for i in range(len(ptrs)):\n",
    "        if(ptrs[i] >= ranges[i]):\n",
    "            return False\n",
    "    return True\n",
    "# def process_phrase_query(positional_index, query_toks):\n",
    "\n",
    "#     n_toks = len(query_toks)\n",
    "#     outer_pointers = [0] * n_toks\n",
    "#     outer_ranges = [len(positional_index[query_toks[i]]) for i in range(n_toks)]\n",
    "#     while(check_all_in_range(outer_pointers, outer_ranges)):\n",
    "#         all_equal = True\n",
    "#         for i in range(n_toks - 1):\n",
    "#             if(positional_index[query_toks[i]][outer_pointers[i]][0] != positional_index[query_toks[i + 1]][outer_pointers[i + 1]][0]):\n",
    "#                 all_equal = False\n",
    "#                 break\n",
    "#         if(all_equal == True):\n",
    "#             inner_pointers = [0] * n_toks\n",
    "#             inner_ranges = [len(positional_index[query_toks[i]][outer_pointers[i]][1]) for i in range(n_toks)]\n",
    "#             while(check_all_in_range(inner_pointers, inner_ranges)):\n",
    "#                 for i in range(n_toks - 1):\n",
    "                    \n",
    "def process_phrase_query(positional_index, query_toks):\n",
    "\n",
    "    n_toks = len(query_toks)\n",
    "    print(query_toks)\n",
    "    outer_pointers = [0] * n_toks\n",
    "    # print(outer_pointers)\n",
    "    outer_ranges = [len(positional_index[query_toks[i]]) for i in range(n_toks)]\n",
    "    answer = []\n",
    "    while(check_all_in_range(outer_pointers, outer_ranges)):\n",
    "        all_equal = True\n",
    "        for i in range(n_toks - 1):\n",
    "            if(positional_index[query_toks[i]][outer_pointers[i]][0] != positional_index[query_toks[i + 1]][outer_pointers[i + 1]][0]):\n",
    "                all_equal = False\n",
    "                break\n",
    "        if(all_equal == False):\n",
    "            least_ptr = 0\n",
    "            for i in range(1, n_toks):\n",
    "                if(positional_index[query_toks[least_ptr]][outer_pointers[least_ptr]][0] > positional_index[query_toks[i]][outer_pointers[i]][0]):\n",
    "                    least_ptr = i\n",
    "            outer_pointers[least_ptr] += 1\n",
    "        if(all_equal == True):\n",
    "\n",
    "            \n",
    "            # print(positional_index[query_toks[0]][outer_pointers[0]][0])\n",
    "            # doc = positional_index[query_toks[0]][outer_pointers[0]][0]\n",
    "            # j = 1\n",
    "            # flag = True\n",
    "            # inner_pointers = [0] * n_toks\n",
    "            # inner_ranges = [len(positional_index[query_toks[i]][outer_pointers[i]][1]) for i in range(n_toks)]\n",
    "            # print(inner_ranges)\n",
    "            # # print(inner_ranges)\n",
    "            # while(flag == True and check_all_in_range(inner_pointers, inner_ranges)):\n",
    "            #     print(inner_pointers)\n",
    "                \n",
    "            #     cntr = 0\n",
    "            #     for i in range(1, n_toks):\n",
    "            #         # print(positional_index[query_toks[i]][outer_pointers[i]][1][inner_pointers[i]])\n",
    "            #         if(positional_index[query_toks[i]][outer_pointers[i]][1][inner_pointers[i]] == positional_index[query_toks[i - 1]][outer_pointers[i - 1]][1][inner_pointers[i - 1]] + 1):\n",
    "            #             cntr += 1\n",
    "            #     if(cntr == n_toks - 1):\n",
    "            #         flag = False\n",
    "            #         answer.append(positional_index[query_toks[0]][outer_pointers[0]][0])\n",
    "            #         break\n",
    "     \n",
    "            #     while((positional_index[query_toks[j]][outer_pointers[j]][1][inner_pointers[j]] <= positional_index[query_toks[j - 1]][outer_pointers[j - 1]][1][inner_pointers[j - 1]]) and inner_pointers[j] < inner_ranges[j]):\n",
    "            #         inner_pointers[j] += 1\n",
    "            #     if(inner_pointers[j] < inner_ranges[j]):\n",
    "            #         if(positional_index[query_toks[j]][outer_pointers[j]][1][inner_pointers[j]] == positional_index[query_toks[j - 1]][outer_pointers[j - 1]][1][inner_pointers[j - 1]] + 1):\n",
    "            #             j += 1\n",
    "            #         else:\n",
    "            #             j = 1\n",
    "            #             inner_pointers[0] += 1\n",
    "                \n",
    "            # for i in range(n_toks):\n",
    "            #     outer_pointers[i] += 1\n",
    "\n"
   ]
  },
  {
   "cell_type": "code",
   "execution_count": 36,
   "metadata": {},
   "outputs": [],
   "source": [
    "# positional_index = {'water' : [[2, [2, 3, 4]], [10, [2, 3, 4, 5, 6]], [12, [5, 6, 7]], [13, [6, 8, 10]]], 'piano':[[2, []], [5, []]], 'happy': [[2, []]]}"
   ]
  },
  {
   "cell_type": "code",
   "execution_count": 61,
   "metadata": {},
   "outputs": [
    {
     "name": "stdout",
     "output_type": "stream",
     "text": [
      "['water', 'piano', 'happy']\n",
      "352\n",
      "[1, 1, 4]\n",
      "[0, 0, 0]\n",
      "379\n",
      "[1, 1, 1]\n",
      "[0, 0, 0]\n"
     ]
    },
    {
     "ename": "IndexError",
     "evalue": "list index out of range",
     "output_type": "error",
     "traceback": [
      "\u001b[1;31m---------------------------------------------------------------------------\u001b[0m",
      "\u001b[1;31mIndexError\u001b[0m                                Traceback (most recent call last)",
      "\u001b[1;32mc:\\Users\\Samyak Jain\\Dropbox\\My PC (DESKTOP-19GV4HH)\\Desktop\\IR_A1\\Q1\\Q2.ipynb Cell 11'\u001b[0m in \u001b[0;36m<module>\u001b[1;34m\u001b[0m\n\u001b[1;32m----> <a href='vscode-notebook-cell:/c%3A/Users/Samyak%20Jain/Dropbox/My%20PC%20%28DESKTOP-19GV4HH%29/Desktop/IR_A1/Q1/Q2.ipynb#ch0000008?line=0'>1</a>\u001b[0m x \u001b[39m=\u001b[39m process_phrase_query(positional_index, [\u001b[39m\"\u001b[39;49m\u001b[39mwater\u001b[39;49m\u001b[39m\"\u001b[39;49m, \u001b[39m\"\u001b[39;49m\u001b[39mpiano\u001b[39;49m\u001b[39m\"\u001b[39;49m, \u001b[39m\"\u001b[39;49m\u001b[39mhappy\u001b[39;49m\u001b[39m\"\u001b[39;49m])\n",
      "\u001b[1;32mc:\\Users\\Samyak Jain\\Dropbox\\My PC (DESKTOP-19GV4HH)\\Desktop\\IR_A1\\Q1\\Q2.ipynb Cell 9'\u001b[0m in \u001b[0;36mprocess_phrase_query\u001b[1;34m(positional_index, query_toks)\u001b[0m\n\u001b[0;32m     <a href='vscode-notebook-cell:/c%3A/Users/Samyak%20Jain/Dropbox/My%20PC%20%28DESKTOP-19GV4HH%29/Desktop/IR_A1/Q1/Q2.ipynb#ch0000007?line=61'>62</a>\u001b[0m     answer\u001b[39m.\u001b[39mappend(positional_index[query_toks[\u001b[39m0\u001b[39m]][outer_pointers[\u001b[39m0\u001b[39m]][\u001b[39m0\u001b[39m])\n\u001b[0;32m     <a href='vscode-notebook-cell:/c%3A/Users/Samyak%20Jain/Dropbox/My%20PC%20%28DESKTOP-19GV4HH%29/Desktop/IR_A1/Q1/Q2.ipynb#ch0000007?line=62'>63</a>\u001b[0m     \u001b[39mbreak\u001b[39;00m\n\u001b[1;32m---> <a href='vscode-notebook-cell:/c%3A/Users/Samyak%20Jain/Dropbox/My%20PC%20%28DESKTOP-19GV4HH%29/Desktop/IR_A1/Q1/Q2.ipynb#ch0000007?line=64'>65</a>\u001b[0m \u001b[39mwhile\u001b[39;00m((positional_index[query_toks[j]][outer_pointers[j]][\u001b[39m1\u001b[39;49m][inner_pointers[j]] \u001b[39m<\u001b[39m\u001b[39m=\u001b[39m positional_index[query_toks[j \u001b[39m-\u001b[39m \u001b[39m1\u001b[39m]][outer_pointers[j \u001b[39m-\u001b[39m \u001b[39m1\u001b[39m]][\u001b[39m1\u001b[39m][inner_pointers[j \u001b[39m-\u001b[39m \u001b[39m1\u001b[39m]]) \u001b[39mand\u001b[39;00m inner_pointers[j] \u001b[39m<\u001b[39m inner_ranges[j]):\n\u001b[0;32m     <a href='vscode-notebook-cell:/c%3A/Users/Samyak%20Jain/Dropbox/My%20PC%20%28DESKTOP-19GV4HH%29/Desktop/IR_A1/Q1/Q2.ipynb#ch0000007?line=65'>66</a>\u001b[0m     inner_pointers[j] \u001b[39m+\u001b[39m\u001b[39m=\u001b[39m \u001b[39m1\u001b[39m\n\u001b[0;32m     <a href='vscode-notebook-cell:/c%3A/Users/Samyak%20Jain/Dropbox/My%20PC%20%28DESKTOP-19GV4HH%29/Desktop/IR_A1/Q1/Q2.ipynb#ch0000007?line=66'>67</a>\u001b[0m \u001b[39mif\u001b[39;00m(inner_pointers[j] \u001b[39m<\u001b[39m inner_ranges[j]):\n",
      "\u001b[1;31mIndexError\u001b[0m: list index out of range"
     ]
    }
   ],
   "source": [
    "x = process_phrase_query(positional_index, [\"water\", \"piano\", \"happy\"])\n"
   ]
  },
  {
   "cell_type": "code",
   "execution_count": 47,
   "metadata": {},
   "outputs": [
    {
     "name": "stdout",
     "output_type": "stream",
     "text": [
      "[[21, [833]], [84, [1046]], [87, [1136]], [140, [328]], [153, [314]], [222, [855]], [241, [3370]], [252, [4341]], [273, [1449]], [295, [615]], [321, [181]], [338, [154]], [352, [2786]], [379, [2148]], [380, [115, 122]], [381, [93, 100]], [424, [323, 1880, 3553]], [426, [2524, 2534]], [482, [80]], [516, [142]], [519, [4446]], [520, [6694]], [573, [241]], [575, [333]], [590, [442]], [771, [2280]], [853, [1208]], [928, [502]], [941, [991, 1052]], [942, [111, 118]], [1003, [4]], [1004, [4]], [1078, [180]], [1104, [316, 322]]]\n"
     ]
    }
   ],
   "source": [
    "print(positional_index['piano'])"
   ]
  }
 ],
 "metadata": {
  "interpreter": {
   "hash": "2370e07001db70a9c24f7e21173c51fbc4321340913a02830aed4885459fa0a0"
  },
  "kernelspec": {
   "display_name": "Python 3.8.10 64-bit",
   "language": "python",
   "name": "python3"
  },
  "language_info": {
   "codemirror_mode": {
    "name": "ipython",
    "version": 3
   },
   "file_extension": ".py",
   "mimetype": "text/x-python",
   "name": "python",
   "nbconvert_exporter": "python",
   "pygments_lexer": "ipython3",
   "version": "3.8.10"
  },
  "orig_nbformat": 4
 },
 "nbformat": 4,
 "nbformat_minor": 2
}
